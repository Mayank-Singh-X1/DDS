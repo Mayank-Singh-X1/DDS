{
  "nbformat": 4,
  "nbformat_minor": 0,
  "metadata": {
    "colab": {
      "provenance": [],
      "include_colab_link": true
    },
    "kernelspec": {
      "name": "python3",
      "display_name": "Python 3"
    },
    "language_info": {
      "name": "python"
    }
  },
  "cells": [
    {
      "cell_type": "markdown",
      "metadata": {
        "id": "view-in-github",
        "colab_type": "text"
      },
      "source": [
        "<a href=\"https://colab.research.google.com/github/Mayank-Singh-X1/DDS/blob/main/ddslab.ipynb\" target=\"_parent\"><img src=\"https://colab.research.google.com/assets/colab-badge.svg\" alt=\"Open In Colab\"/></a>"
      ]
    },
    {
      "cell_type": "code",
      "source": [
        "arr=[1,2,3,3,4]\n",
        "t=3\n",
        "# arr = [x for x in arr if x != t]\n",
        "for i in arr:\n",
        "  if i==t:\n",
        "    arr.remove(i)\n",
        "    arr.append(i)\n",
        "\n",
        "arr1=['_' if x==t else x for x in arr]\n",
        "print(arr1)"
      ],
      "metadata": {
        "colab": {
          "base_uri": "https://localhost:8080/"
        },
        "id": "ttWNE8gqTB8V",
        "outputId": "6bf8bdf4-6a6a-4e45-b866-70dfdb90af3f"
      },
      "execution_count": null,
      "outputs": [
        {
          "output_type": "stream",
          "name": "stdout",
          "text": [
            "[1, 2, 4, '_', '_', '_']\n"
          ]
        }
      ]
    },
    {
      "cell_type": "code",
      "source": [
        "class Solution:\n",
        "    def pivotIndex(self, nums: List[int]) -> int:\n",
        "        t=sum(nums)\n",
        "        l_t =0\n",
        "        for i in range (len(nums)):\n",
        "            r_t = t- l_t-nums[i]\n",
        "            if r_t == l_t:\n",
        "                return i\n",
        "            l_t += nums[i]\n",
        "        return -1\n"
      ],
      "metadata": {
        "id": "O8hWjxPwgtSJ"
      },
      "execution_count": null,
      "outputs": []
    },
    {
      "cell_type": "markdown",
      "source": [
        "valid parantheses Q20 (leetcode homework)"
      ],
      "metadata": {
        "id": "bZM6Bk8HhPRJ"
      }
    },
    {
      "cell_type": "code",
      "source": [
        "\n",
        "%%writefile Rgcd.cpp\n",
        "#include <iostream>\n",
        "using namespace std;\n",
        "\n",
        "int gcd(int a, int b) {\n",
        "    if (b == 0)\n",
        "        return a;\n",
        "    return gcd(b, a % b);\n",
        "}\n",
        "int main() {\n",
        "    int a = 66, b = 18;\n",
        "    cout << \"GCD of \" << a << \" and \" << b << \" is: \" << gcd(a, b) << endl;\n",
        "    return 0;\n",
        "}"
      ],
      "metadata": {
        "id": "NwypiqgabVMh"
      },
      "execution_count": null,
      "outputs": []
    },
    {
      "cell_type": "code",
      "source": [
        "!g++ Rgcd.cpp"
      ],
      "metadata": {
        "id": "PQCPX2HdfT-Y"
      },
      "execution_count": null,
      "outputs": []
    },
    {
      "cell_type": "code",
      "source": [
        "!./a.out"
      ],
      "metadata": {
        "id": "B8Y1OxowfeEP"
      },
      "execution_count": null,
      "outputs": []
    },
    {
      "cell_type": "code",
      "source": [
        "%%writefile lab5_queue.cpp\n",
        "#include <iostream>\n",
        "#define SIZE 5\n",
        "using namespace std;\n",
        "\n",
        "class Queue {\n",
        "    int arr[SIZE], front, rear;\n",
        "public:\n",
        "    Queue() {\n",
        "        front = rear = -1;\n",
        "    }\n",
        "\n",
        "    void enqueue(int val) {\n",
        "        if ((rear + 1) % SIZE == front) {\n",
        "            cout << \"Queue Overflow\\n\";\n",
        "            return;\n",
        "        }\n",
        "        if (front == -1) front = 0;\n",
        "        rear = (rear + 1) % SIZE;\n",
        "        arr[rear] = val;\n",
        "    }\n",
        "\n",
        "    void dequeue() {\n",
        "        if (front == -1) {\n",
        "            cout << \"Queue Underflow\\n\";\n",
        "            return;\n",
        "        }\n",
        "        cout << \"Dequeued: \" << arr[front] << endl;\n",
        "        if (front == rear)\n",
        "            front = rear = -1;\n",
        "        else\n",
        "            front = (front + 1) % SIZE;\n",
        "    }\n",
        "\n",
        "  void traverse() {\n",
        "        if (front == -1) {\n",
        "            cout << \"Queue is empty\\n\";\n",
        "            return;\n",
        "        }\n",
        "        cout << \"Queue: \";\n",
        "        int i = front;\n",
        "        while (true) {\n",
        "            cout << arr[i] << \" \";\n",
        "            if (i == rear) break;\n",
        "            i = (i + 1) % SIZE;\n",
        "        }\n",
        "        cout << endl;\n",
        "    }\n",
        "\n",
        "    void search(int key) {\n",
        "        if (front == -1) {\n",
        "            cout << \"Queue is empty\\n\";\n",
        "            return;\n",
        "        }\n",
        "        int i = front;\n",
        "        while (true) {\n",
        "            if (arr[i] == key) {\n",
        "                cout << \"Element \" << key << \" found at index \" << i << endl;\n",
        "                return;\n",
        "            }\n",
        "            if (i == rear) break;\n",
        "            i = (i + 1) % SIZE;\n",
        "        }\n",
        "        cout << \"Element not found\\n\";\n",
        "    }\n",
        "};\n",
        "int main(){\n",
        "  Queue q;\n",
        "  q.enqueue(10);\n",
        "  q.enqueue(20);\n",
        "  q.enqueue(30);\n",
        "  q.traverse();\n",
        "  q.dequeue();\n",
        "  q.traverse();\n",
        "  q.search(20);\n",
        "  q.search(99);\n",
        "  return 0;\n",
        "\n",
        "}\n",
        "\n"
      ],
      "metadata": {
        "colab": {
          "base_uri": "https://localhost:8080/"
        },
        "id": "n9iZRiNecwAr",
        "outputId": "cc4829da-3be0-4ec3-8def-3c50e8ef6f37"
      },
      "execution_count": 1,
      "outputs": [
        {
          "output_type": "stream",
          "name": "stdout",
          "text": [
            "Writing lab5_queue.cpp\n"
          ]
        }
      ]
    },
    {
      "cell_type": "code",
      "source": [
        "!g++ lab5_queue.cpp"
      ],
      "metadata": {
        "colab": {
          "base_uri": "https://localhost:8080/"
        },
        "id": "eV5xUaCzl-jA",
        "outputId": "de48b615-71f0-4138-c80b-0769dd6d2c38"
      },
      "execution_count": 9,
      "outputs": [
        {
          "output_type": "stream",
          "name": "stdout",
          "text": [
            "\u001b[01m\u001b[Klab5_queue.cpp:8:1:\u001b[m\u001b[K \u001b[01;31m\u001b[Kerror: \u001b[m\u001b[KISO C++ forbids declaration of ‘\u001b[01m\u001b[KQueue\u001b[m\u001b[K’ with no type [\u001b[01;31m\u001b[K\u001b]8;;https://gcc.gnu.org/onlinedocs/gcc/Warning-Options.html#index-fpermissive\u0007-fpermissive\u001b]8;;\u0007\u001b[m\u001b[K]\n",
            "    8 | \u001b[01;31m\u001b[KQueue\u001b[m\u001b[K(){\n",
            "      | \u001b[01;31m\u001b[K^~~~~\u001b[m\u001b[K\n",
            "\u001b[01m\u001b[Klab5_queue.cpp:\u001b[m\u001b[K In member function ‘\u001b[01m\u001b[Kint queue::Queue()\u001b[m\u001b[K’:\n",
            "\u001b[01m\u001b[Klab5_queue.cpp:10:1:\u001b[m\u001b[K \u001b[01;35m\u001b[Kwarning: \u001b[m\u001b[Kno return statement in function returning non-void [\u001b[01;35m\u001b[K\u001b]8;;https://gcc.gnu.org/onlinedocs/gcc/Warning-Options.html#index-Wreturn-type\u0007-Wreturn-type\u001b]8;;\u0007\u001b[m\u001b[K]\n",
            "   10 | \u001b[01;35m\u001b[K}\u001b[m\u001b[K\n",
            "      | \u001b[01;35m\u001b[K^\u001b[m\u001b[K\n",
            "\u001b[01m\u001b[Klab5_queue.cpp:\u001b[m\u001b[K In function ‘\u001b[01m\u001b[Kint main()\u001b[m\u001b[K’:\n",
            "\u001b[01m\u001b[Klab5_queue.cpp:68:3:\u001b[m\u001b[K \u001b[01;31m\u001b[Kerror: \u001b[m\u001b[K‘\u001b[01m\u001b[KQueue\u001b[m\u001b[K’ was not declared in this scope; did you mean ‘\u001b[01m\u001b[Kqueue\u001b[m\u001b[K’?\n",
            "   68 |   \u001b[01;31m\u001b[KQueue\u001b[m\u001b[K q;\n",
            "      |   \u001b[01;31m\u001b[K^~~~~\u001b[m\u001b[K\n",
            "      |   \u001b[32m\u001b[Kqueue\u001b[m\u001b[K\n",
            "\u001b[01m\u001b[Klab5_queue.cpp:69:3:\u001b[m\u001b[K \u001b[01;31m\u001b[Kerror: \u001b[m\u001b[K‘\u001b[01m\u001b[Kq\u001b[m\u001b[K’ was not declared in this scope\n",
            "   69 |   \u001b[01;31m\u001b[Kq\u001b[m\u001b[K.enqueue(10);\n",
            "      |   \u001b[01;31m\u001b[K^\u001b[m\u001b[K\n"
          ]
        }
      ]
    },
    {
      "cell_type": "code",
      "source": [
        "!./a.out"
      ],
      "metadata": {
        "colab": {
          "base_uri": "https://localhost:8080/"
        },
        "id": "qbxDoTG8naZw",
        "outputId": "d5417973-5b1c-49d3-db2c-2673c51f7c1f"
      },
      "execution_count": 7,
      "outputs": [
        {
          "output_type": "stream",
          "name": "stdout",
          "text": [
            "/bin/bash: line 1: ./a.out: No such file or directory\n"
          ]
        }
      ]
    }
  ]
}