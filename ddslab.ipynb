{
  "nbformat": 4,
  "nbformat_minor": 0,
  "metadata": {
    "colab": {
      "provenance": [],
      "authorship_tag": "ABX9TyPHx4gM0fUx14gDtII4Y1EC",
      "include_colab_link": true
    },
    "kernelspec": {
      "name": "python3",
      "display_name": "Python 3"
    },
    "language_info": {
      "name": "python"
    }
  },
  "cells": [
    {
      "cell_type": "markdown",
      "metadata": {
        "id": "view-in-github",
        "colab_type": "text"
      },
      "source": [
        "<a href=\"https://colab.research.google.com/github/Mayank-Singh-X1/DDS/blob/main/ddslab.ipynb\" target=\"_parent\"><img src=\"https://colab.research.google.com/assets/colab-badge.svg\" alt=\"Open In Colab\"/></a>"
      ]
    },
    {
      "cell_type": "code",
      "source": [
        "arr=[1,2,3,3,4]\n",
        "t=3\n",
        "# arr = [x for x in arr if x != t]\n",
        "for i in arr:\n",
        "  if i==t:\n",
        "    arr.remove(i)\n",
        "    arr.append(i)\n",
        "\n",
        "arr1=['_' if x==t else x for x in arr]\n",
        "print(arr1)"
      ],
      "metadata": {
        "colab": {
          "base_uri": "https://localhost:8080/"
        },
        "id": "ttWNE8gqTB8V",
        "outputId": "ab4b6901-3873-4457-f119-1af2306724d0"
      },
      "execution_count": 19,
      "outputs": [
        {
          "output_type": "stream",
          "name": "stdout",
          "text": [
            "[1, 2, 4, '_', '_']\n"
          ]
        }
      ]
    }
  ]
}