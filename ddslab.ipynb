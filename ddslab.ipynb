{
  "nbformat": 4,
  "nbformat_minor": 0,
  "metadata": {
    "colab": {
      "provenance": [],
      "include_colab_link": true
    },
    "kernelspec": {
      "name": "python3",
      "display_name": "Python 3"
    },
    "language_info": {
      "name": "python"
    }
  },
  "cells": [
    {
      "cell_type": "markdown",
      "metadata": {
        "id": "view-in-github",
        "colab_type": "text"
      },
      "source": [
        "<a href=\"https://colab.research.google.com/github/Mayank-Singh-X1/DDS/blob/main/ddslab.ipynb\" target=\"_parent\"><img src=\"https://colab.research.google.com/assets/colab-badge.svg\" alt=\"Open In Colab\"/></a>"
      ]
    },
    {
      "cell_type": "code",
      "source": [
        "arr=[1,2,3,3,4]\n",
        "t=3\n",
        "# arr = [x for x in arr if x != t]\n",
        "for i in arr:\n",
        "  if i==t:\n",
        "    arr.remove(i)\n",
        "    arr.append(i)\n",
        "\n",
        "arr1=['_' if x==t else x for x in arr]\n",
        "print(arr1)"
      ],
      "metadata": {
        "colab": {
          "base_uri": "https://localhost:8080/"
        },
        "id": "ttWNE8gqTB8V",
        "outputId": "6bf8bdf4-6a6a-4e45-b866-70dfdb90af3f"
      },
      "execution_count": null,
      "outputs": [
        {
          "output_type": "stream",
          "name": "stdout",
          "text": [
            "[1, 2, 4, '_', '_', '_']\n"
          ]
        }
      ]
    },
    {
      "cell_type": "code",
      "source": [
        "class Solution:\n",
        "    def pivotIndex(self, nums: List[int]) -> int:\n",
        "        t=sum(nums)\n",
        "        l_t =0\n",
        "        for i in range (len(nums)):\n",
        "            r_t = t- l_t-nums[i]\n",
        "            if r_t == l_t:\n",
        "                return i\n",
        "            l_t += nums[i]\n",
        "        return -1\n"
      ],
      "metadata": {
        "id": "O8hWjxPwgtSJ"
      },
      "execution_count": null,
      "outputs": []
    },
    {
      "cell_type": "markdown",
      "source": [
        "valid parantheses Q20 (leetcode homework)"
      ],
      "metadata": {
        "id": "bZM6Bk8HhPRJ"
      }
    },
    {
      "cell_type": "code",
      "source": [
        "\n",
        "%%writefile Rgcd.cpp\n",
        "#include <iostream>\n",
        "using namespace std;\n",
        "\n",
        "int gcd(int a, int b) {\n",
        "    if (b == 0)\n",
        "        return a;\n",
        "    return gcd(b, a % b);\n",
        "}\n",
        "int main() {\n",
        "    int a = 66, b = 18;\n",
        "    cout << \"GCD of \" << a << \" and \" << b << \" is: \" << gcd(a, b) << endl;\n",
        "    return 0;\n",
        "}"
      ],
      "metadata": {
        "id": "NwypiqgabVMh"
      },
      "execution_count": null,
      "outputs": []
    },
    {
      "cell_type": "code",
      "source": [
        "!g++ Rgcd.cpp"
      ],
      "metadata": {
        "id": "PQCPX2HdfT-Y"
      },
      "execution_count": null,
      "outputs": []
    },
    {
      "cell_type": "code",
      "source": [
        "!./a.out"
      ],
      "metadata": {
        "id": "B8Y1OxowfeEP"
      },
      "execution_count": null,
      "outputs": []
    }
  ]
}